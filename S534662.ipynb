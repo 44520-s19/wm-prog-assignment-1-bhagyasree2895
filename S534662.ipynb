{
 "cells": [
  {
   "cell_type": "markdown",
   "metadata": {},
   "source": [
    "### Bhagya Sree Chanda\n",
    "4. Create a new Jupyter Notebook (the name of the notebook should be your S number).  Add a Markdown cell that contains your name.  Add a Code cell and write Python that uses loops to draw the following pattern:\n",
    "\n",
    "```python\n",
    "#      #\n",
    "##    ##\n",
    "###  ###\n",
    "########\n",
    "```\n",
    "\n",
    "Submit both this notebook and your new notebook to your repository."
   ]
  },
  {
   "cell_type": "code",
   "execution_count": 4,
   "metadata": {},
   "outputs": [
    {
     "name": "stdout",
     "output_type": "stream",
     "text": [
      "#      #\n",
      "##    ##\n",
      "###  ###\n",
      "########\n"
     ]
    }
   ],
   "source": [
    "for i in range(1,5):\n",
    "    if i==1:\n",
    "        print(\"#      #\")\n",
    "    if i==2:\n",
    "        print(\"##    ##\")\n",
    "    if i==3:\n",
    "        print(\"###  ###\")\n",
    "    if i==4:\n",
    "        print(\"########\")"
   ]
  },
  {
   "cell_type": "code",
   "execution_count": null,
   "metadata": {},
   "outputs": [],
   "source": []
  }
 ],
 "metadata": {
  "kernelspec": {
   "display_name": "Python 3",
   "language": "python",
   "name": "python3"
  },
  "language_info": {
   "codemirror_mode": {
    "name": "ipython",
    "version": 3
   },
   "file_extension": ".py",
   "mimetype": "text/x-python",
   "name": "python",
   "nbconvert_exporter": "python",
   "pygments_lexer": "ipython3",
   "version": "3.7.3"
  }
 },
 "nbformat": 4,
 "nbformat_minor": 2
}
